{
  "nbformat": 4,
  "nbformat_minor": 0,
  "metadata": {
    "colab": {
      "provenance": [],
      "gpuType": "T4"
    },
    "kernelspec": {
      "name": "python3",
      "display_name": "Python 3"
    },
    "language_info": {
      "name": "python"
    },
    "accelerator": "GPU",
    "gpuClass": "standard"
  },
  "cells": [
    {
      "cell_type": "markdown",
      "source": [
        "# Pulse Implementation / Synthesis Testing"
      ],
      "metadata": {
        "id": "9cOtL4wHYaYK"
      }
    },
    {
      "cell_type": "code",
      "execution_count": null,
      "metadata": {
        "id": "8OMcJxUgDGrD"
      },
      "outputs": [],
      "source": [
        "!git clone https://github.com/adamian98/pulse.git"
      ]
    },
    {
      "cell_type": "code",
      "source": [
        "!pip install torch\n",
        "!pip install lpips\n",
        "!pip install numpy\n",
        "!pip install Pillow\n",
        "!pip install torchvision\n",
        "!pip install scipy\n",
        "!pip install dlib"
      ],
      "metadata": {
        "id": "T7-Sg604RBjr"
      },
      "execution_count": null,
      "outputs": []
    },
    {
      "cell_type": "code",
      "source": [
        "!pip install -q condacolab\n",
        "import condacolab\n",
        "condacolab.install()"
      ],
      "metadata": {
        "id": "WJ7bKR4pK5V8"
      },
      "execution_count": null,
      "outputs": []
    },
    {
      "cell_type": "code",
      "source": [
        "%cd pulse"
      ],
      "metadata": {
        "colab": {
          "base_uri": "https://localhost:8080/"
        },
        "id": "lI7CKPcXHuuR",
        "outputId": "11a925e0-d87e-4ff1-a2ef-e562d3d27fcf"
      },
      "execution_count": null,
      "outputs": [
        {
          "output_type": "stream",
          "name": "stdout",
          "text": [
            "/content/pulse\n"
          ]
        }
      ]
    },
    {
      "cell_type": "markdown",
      "source": [
        "Creating a low-resolution image from high-resolution image"
      ],
      "metadata": {
        "id": "PshDAR4TaXks"
      }
    },
    {
      "cell_type": "code",
      "source": [
        "!python align_face.py -output_dir input"
      ],
      "metadata": {
        "colab": {
          "base_uri": "https://localhost:8080/"
        },
        "id": "s2kNacHXYVGN",
        "outputId": "e83d7893-9912-4b7f-9b38-505eccab1b9b"
      },
      "execution_count": null,
      "outputs": [
        {
          "output_type": "stream",
          "name": "stdout",
          "text": [
            "Downloading Shape Predictor\n",
            "9876268_orig.jpeg: Number of faces detected: 1\n"
          ]
        }
      ]
    },
    {
      "cell_type": "code",
      "source": [
        "!python run.py -input_dir input -output_dir output"
      ],
      "metadata": {
        "colab": {
          "base_uri": "https://localhost:8080/"
        },
        "id": "wdmYyLbMQ-ZS",
        "outputId": "bc800f79-4ed8-4757-e693-acabbd93944c"
      },
      "execution_count": null,
      "outputs": [
        {
          "output_type": "stream",
          "name": "stdout",
          "text": [
            "Loading Synthesis Network\n",
            "Optimizing\n",
            "BEST (98) | L2: 0.0020 | GEOCROSS: 2.5108 | TOTAL: 0.3255 | time: 9.2 | it/s: 10.88 | batchsize: 1\n"
          ]
        }
      ]
    },
    {
      "cell_type": "markdown",
      "source": [
        "# StyleGAN2"
      ],
      "metadata": {
        "id": "wVDNDbwTYrJw"
      }
    },
    {
      "cell_type": "code",
      "source": [
        "!git clone https://github.com/NVlabs/stylegan2-ada-pytorch.git"
      ],
      "metadata": {
        "id": "jr0ykRHhRQDR"
      },
      "execution_count": null,
      "outputs": []
    },
    {
      "cell_type": "code",
      "source": [
        "!pip install legacy"
      ],
      "metadata": {
        "id": "j-6BGmUhSJYT"
      },
      "execution_count": null,
      "outputs": []
    },
    {
      "cell_type": "code",
      "source": [
        "import torch\n",
        "import numpy as np\n",
        "from torchvision.utils import save_image"
      ],
      "metadata": {
        "id": "dyfYCK51auTR"
      },
      "execution_count": 30,
      "outputs": []
    },
    {
      "cell_type": "code",
      "source": [
        "%cd stylegan2-ada-pytorch/dnnlib/"
      ],
      "metadata": {
        "colab": {
          "base_uri": "https://localhost:8080/"
        },
        "id": "cunTRSOUavf9",
        "outputId": "2769bafe-1cf0-4372-f82d-dac5cb917e68"
      },
      "execution_count": 36,
      "outputs": [
        {
          "output_type": "stream",
          "name": "stdout",
          "text": [
            "/content/pulse/stylegan2-ada-pytorch/dnnlib\n"
          ]
        }
      ]
    },
    {
      "cell_type": "code",
      "source": [
        "!python __init__.py install"
      ],
      "metadata": {
        "id": "3m6-mEnmb3K2"
      },
      "execution_count": 39,
      "outputs": []
    },
    {
      "cell_type": "code",
      "source": [
        "# Generating a set of latent vectors from a gaussian distribution\n",
        "num_latents = 10\n",
        "latents = np.random.randn(num_latents, 512)\n",
        "latents = torch.from_numpy(latents).float().cuda()"
      ],
      "metadata": {
        "id": "zqsksBClbakt"
      },
      "execution_count": 40,
      "outputs": []
    },
    {
      "cell_type": "code",
      "source": [
        "# Load the pre-trained StyleGAN2-ADA model\n",
        "model_path = \"models/ffhq.pkl\"\n",
        "generator = Generator(\n",
        "    size=1024,\n",
        "    style_dim=512,\n",
        "    n_mlp=8,\n",
        "    channel_multiplier=2,\n",
        ").cuda().eval()\n",
        "generator.load_state_dict(torch.load(model_path)['g_ema'], strict=False)\n"
      ],
      "metadata": {
        "colab": {
          "base_uri": "https://localhost:8080/",
          "height": 368
        },
        "id": "D6b1B-48RaCw",
        "outputId": "9e7d5c95-f4ca-461d-98e7-3b9301aab38e"
      },
      "execution_count": 45,
      "outputs": [
        {
          "output_type": "error",
          "ename": "ImportError",
          "evalue": "ignored",
          "traceback": [
            "\u001b[0;31m---------------------------------------------------------------------------\u001b[0m",
            "\u001b[0;31mImportError\u001b[0m                               Traceback (most recent call last)",
            "\u001b[0;32m<ipython-input-45-551ae3cf4e8f>\u001b[0m in \u001b[0;36m<cell line: 3>\u001b[0;34m()\u001b[0m\n\u001b[1;32m      1\u001b[0m \u001b[0;31m# Load the pre-trained StyleGAN2-ADA model\u001b[0m\u001b[0;34m\u001b[0m\u001b[0;34m\u001b[0m\u001b[0m\n\u001b[1;32m      2\u001b[0m \u001b[0mmodel_path\u001b[0m \u001b[0;34m=\u001b[0m \u001b[0;34m\"models/ffhq.pkl\"\u001b[0m\u001b[0;34m\u001b[0m\u001b[0;34m\u001b[0m\u001b[0m\n\u001b[0;32m----> 3\u001b[0;31m \u001b[0;32mfrom\u001b[0m \u001b[0mlegacy\u001b[0m \u001b[0;32mimport\u001b[0m \u001b[0mnetworks\u001b[0m\u001b[0;34m\u001b[0m\u001b[0;34m\u001b[0m\u001b[0m\n\u001b[0m\u001b[1;32m      4\u001b[0m \u001b[0;34m\u001b[0m\u001b[0m\n\u001b[1;32m      5\u001b[0m \u001b[0;31m# Load the pre-trained StyleGAN2-ADA generator\u001b[0m\u001b[0;34m\u001b[0m\u001b[0;34m\u001b[0m\u001b[0m\n",
            "\u001b[0;31mImportError\u001b[0m: cannot import name 'networks' from 'legacy' (/usr/local/lib/python3.10/site-packages/legacy.py)",
            "",
            "\u001b[0;31m---------------------------------------------------------------------------\u001b[0;32m\nNOTE: If your import is failing due to a missing package, you can\nmanually install dependencies using either !pip or !apt.\n\nTo view examples of installing some common dependencies, click the\n\"Open Examples\" button below.\n\u001b[0;31m---------------------------------------------------------------------------\u001b[0m\n"
          ],
          "errorDetails": {
            "actions": [
              {
                "action": "open_url",
                "actionText": "Open Examples",
                "url": "/notebooks/snippets/importing_libraries.ipynb"
              }
            ]
          }
        }
      ]
    }
  ]
}