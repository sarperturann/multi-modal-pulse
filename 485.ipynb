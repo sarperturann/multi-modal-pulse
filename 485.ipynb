{
  "nbformat": 4,
  "nbformat_minor": 0,
  "metadata": {
    "colab": {
      "provenance": [],
      "gpuType": "T4"
    },
    "kernelspec": {
      "name": "python3",
      "display_name": "Python 3"
    },
    "language_info": {
      "name": "python"
    },
    "accelerator": "GPU",
    "gpuClass": "standard"
  },
  "cells": [
    {
      "cell_type": "markdown",
      "source": [
        "# Pulse Implementation / Synthesis Testing"
      ],
      "metadata": {
        "id": "9cOtL4wHYaYK"
      }
    },
    {
      "cell_type": "code",
      "execution_count": null,
      "metadata": {
        "id": "8OMcJxUgDGrD"
      },
      "outputs": [],
      "source": [
        "!git clone https://github.com/adamian98/pulse.git"
      ]
    },
    {
      "cell_type": "code",
      "source": [
        "!pip install torch\n",
        "!pip install lpips\n",
        "!pip install numpy\n",
        "!pip install Pillow\n",
        "!pip install torchvision\n",
        "!pip install scipy\n",
        "!pip install dlib"
      ],
      "metadata": {
        "id": "T7-Sg604RBjr"
      },
      "execution_count": null,
      "outputs": []
    },
    {
      "cell_type": "code",
      "source": [
        "!pip install -q condacolab\n",
        "import condacolab\n",
        "condacolab.install()"
      ],
      "metadata": {
        "id": "WJ7bKR4pK5V8"
      },
      "execution_count": null,
      "outputs": []
    },
    {
      "cell_type": "code",
      "source": [
        "%cd pulse"
      ],
      "metadata": {
        "colab": {
          "base_uri": "https://localhost:8080/"
        },
        "id": "lI7CKPcXHuuR",
        "outputId": "11a925e0-d87e-4ff1-a2ef-e562d3d27fcf"
      },
      "execution_count": null,
      "outputs": [
        {
          "output_type": "stream",
          "name": "stdout",
          "text": [
            "/content/pulse\n"
          ]
        }
      ]
    },
    {
      "cell_type": "markdown",
      "source": [
        "Creating a low-resolution image from high-resolution image"
      ],
      "metadata": {
        "id": "PshDAR4TaXks"
      }
    },
    {
      "cell_type": "code",
      "source": [
        "!python align_face.py -output_dir input"
      ],
      "metadata": {
        "colab": {
          "base_uri": "https://localhost:8080/"
        },
        "id": "s2kNacHXYVGN",
        "outputId": "e83d7893-9912-4b7f-9b38-505eccab1b9b"
      },
      "execution_count": null,
      "outputs": [
        {
          "output_type": "stream",
          "name": "stdout",
          "text": [
            "Downloading Shape Predictor\n",
            "9876268_orig.jpeg: Number of faces detected: 1\n"
          ]
        }
      ]
    },
    {
      "cell_type": "code",
      "source": [
        "!python run.py -input_dir input -output_dir output"
      ],
      "metadata": {
        "colab": {
          "base_uri": "https://localhost:8080/"
        },
        "id": "wdmYyLbMQ-ZS",
        "outputId": "bc800f79-4ed8-4757-e693-acabbd93944c"
      },
      "execution_count": null,
      "outputs": [
        {
          "output_type": "stream",
          "name": "stdout",
          "text": [
            "Loading Synthesis Network\n",
            "Optimizing\n",
            "BEST (98) | L2: 0.0020 | GEOCROSS: 2.5108 | TOTAL: 0.3255 | time: 9.2 | it/s: 10.88 | batchsize: 1\n"
          ]
        }
      ]
    },
    {
      "cell_type": "markdown",
      "source": [
        "# StyleGAN2"
      ],
      "metadata": {
        "id": "wVDNDbwTYrJw"
      }
    },
    {
      "cell_type": "code",
      "source": [
        "!git clone https://github.com/NVlabs/stylegan2-ada-pytorch.git"
      ],
      "metadata": {
        "id": "jr0ykRHhRQDR"
      },
      "execution_count": null,
      "outputs": []
    },
    {
      "cell_type": "code",
      "source": [
        "!pip install legacy"
      ],
      "metadata": {
        "id": "j-6BGmUhSJYT"
      },
      "execution_count": null,
      "outputs": []
    },
    {
      "cell_type": "code",
      "source": [
        "import torch\n",
        "from torchvision.utils import save_image"
      ],
      "metadata": {
        "id": "dyfYCK51auTR"
      },
      "execution_count": 27,
      "outputs": []
    },
    {
      "cell_type": "code",
      "source": [
        "%cd stylegan2-ada-pytorch/"
      ],
      "metadata": {
        "id": "cunTRSOUavf9"
      },
      "execution_count": null,
      "outputs": []
    },
    {
      "cell_type": "code",
      "source": [
        "# Load the pre-trained StyleGAN2-ADA model\n",
        "model_path = \"models/ffhq.pkl\"\n",
        "generator = Generator(\n",
        "    size=1024,\n",
        "    style_dim=512,\n",
        "    n_mlp=8,\n",
        "    channel_multiplier=2,\n",
        ").cuda().eval()\n",
        "generator.load_state_dict(torch.load(model_path)['g_ema'], strict=False)"
      ],
      "metadata": {
        "id": "D6b1B-48RaCw"
      },
      "execution_count": null,
      "outputs": []
    }
  ]
}